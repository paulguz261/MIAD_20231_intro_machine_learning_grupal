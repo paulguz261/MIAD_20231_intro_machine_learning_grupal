{
  "cells": [
    {
      "cell_type": "markdown",
      "metadata": {
        "id": "view-in-github",
        "colab_type": "text"
      },
      "source": [
        "<a href=\"https://colab.research.google.com/github/paulguz261/MIAD_20231_intro_machine_learning_grupal/blob/main/Taller_Implementaci%C3%B3n_de_LASSO%2C_Ridge_y_Elastic_Net.ipynb\" target=\"_parent\"><img src=\"https://colab.research.google.com/assets/colab-badge.svg\" alt=\"Open In Colab\"/></a>"
      ]
    },
    {
      "cell_type": "markdown",
      "metadata": {
        "id": "XcHVb6Wgl3jZ"
      },
      "source": [
        "![EX20MDT3GPA%20%201500%20X%20160@96x.png](attachment:EX20MDT3GPA%20%201500%20X%20160@96x.png)"
      ],
      "id": "XcHVb6Wgl3jZ"
    },
    {
      "cell_type": "markdown",
      "metadata": {
        "id": "6N7sHleWl3ja"
      },
      "source": [
        "# Introducción al Machine Learning - Semana 2\n",
        "## Taller: Implementación de Ridge, LASSO y Elastic Net\n",
        "### Propósito de la actividad\n",
        "En esta actividad podrá poner en práctica, con un conjunto de datos simulados, la implementación de modelos lineales regularizados. En particular, se implementarán tres modelos: regresión con penalización tipo Ridge, regresión con penalización tipo LASSO y regresión con penalización tipo Elastic Net.\n",
        "\n",
        "### Instrucciones generales\n",
        "\n",
        "1. Esta actividad es para que la desarrolle individualmente. Para hacerlo, deberá descargar este notebook eligiendo la opción ‘Download as’ del menú ‘File’ y descargar el archivo en formato notebook (.ipynb).\n",
        "\n",
        "2. Para que la actividad sea calificada, deberán subir únicamente el archivo del notebook en el que trabajó a la actividad de \"entrega calificada por el personal\" correspondiente a este taller y que encuentra en la plataforma después de esta actividad. El archivo deberá subirlo en el mismo formato en el que lo descargó (con la extensión \".ipynb\"). \n",
        "\n",
        "\n",
        "### Criterios de evaluación\n",
        "\n",
        "Los criterios que se evaluarán son:   \n",
        "\n",
        "Elección del tipo de penalización: Se utiliza adecuadamente el parámetro “penalizacion” de acuerdo a como fue especificado en el enunciado. [10 puntos] \n",
        "\n",
        "Funcionamiento del código: El código permite estimar correctamente los tres modelos, utilizando la muestra de entrenamiento. [60 puntos] \n",
        "\n",
        "Medición del desempeño: El código permite que el modelo que se seleccione calcule el MSE en la muestra de evaluación. [30 puntos]\n",
        "\n",
        "\n",
        "### Penalización en modelos lineales\n",
        "\n",
        "Adicional a la selección de variables en un modelo y a la transformación de variables usando PCA o PLS, los modelos lineales con penalización son una tercera alternativa para calibrar mejor y más fácil los modelos de regresión lineal.\n",
        "\n",
        "Recordemos que inicialmente tenemos el modelo de mínimos cuadrados como punto de partida. Así, este modelo se estima resolviendo el siguiente problema de optimización:\n",
        "\n",
        "$$\\hat\\beta = argmin \\sum_{i=1}^{n} (Y_i-\\beta^tX_i)^2$$\n",
        "\n",
        "Sin embargo, es posible que la redundancia de información entre las variables predictoras genere que la estimación de los betas tenga mucha varianza y, por lo tanto, algunos betas tomen valores absolutos muy grandes.\n",
        "\n",
        "Por tal motivo, los modelos que se van a presentar en este notebook penalizan el tamaño del vector de betas para evitar el anterior inconveniente, tal y como se presenta en el siguiente problema de optimización:\n",
        "\n",
        "$$\\hat\\beta = argmin \\sum_{i=1}^{n} (Yi-\\beta^tX_i)^2 + \\lambda ||\\beta|| $$\n",
        "\n",
        "Donde $\\lambda>0$ es el parámetro de penalización y $||\\beta||$ corresponde a una norma del vector de betas.\n",
        "\n",
        "La diferencia entre los tres modelos de penalización que se presentarán a continuación, consiste en la manera de definir la norma del vector de betas.\n",
        "\n",
        "### Librerías a importar\n",
        "\n",
        "A continuación se muestran los comandos a ejecutar para poder implementar los procedimientos de este notebook:"
      ],
      "id": "6N7sHleWl3ja"
    },
    {
      "cell_type": "code",
      "execution_count": null,
      "metadata": {
        "id": "VPOiGoDwl3jb"
      },
      "outputs": [],
      "source": [
        "import numpy as np\n",
        "from sklearn import datasets\n",
        "from sklearn.model_selection import train_test_split\n",
        "from sklearn.linear_model import LinearRegression\n",
        "from sklearn.linear_model import RidgeCV\n",
        "from sklearn.linear_model import Ridge\n",
        "from sklearn.linear_model import LassoCV\n",
        "from sklearn.linear_model import Lasso\n",
        "from sklearn.linear_model import ElasticNetCV\n",
        "from sklearn.linear_model import ElasticNet\n",
        "import matplotlib.pyplot as plt"
      ],
      "id": "VPOiGoDwl3jb"
    },
    {
      "cell_type": "markdown",
      "metadata": {
        "id": "JBYbry16l3jc"
      },
      "source": [
        "### Cargando los datos\n",
        "\n",
        "En primer lugar, cargaremos los datos a usar en este Notebook que corresponde a la base de datos \"Diabetes\" del paquete \"sklearn\". Para ello, ejecutaremos el siguiente código:"
      ],
      "id": "JBYbry16l3jc"
    },
    {
      "cell_type": "code",
      "execution_count": null,
      "metadata": {
        "id": "N6XVQWVEl3jc"
      },
      "outputs": [],
      "source": [
        "XTotal, yTotal = datasets.load_diabetes(return_X_y=True)"
      ],
      "id": "N6XVQWVEl3jc"
    },
    {
      "cell_type": "markdown",
      "metadata": {
        "id": "9boZnNZwl3jc"
      },
      "source": [
        "Luego, partiremos la base de datos en una sección de train y otra de test de la siguiente manera: utilizaremos el 67% de los datos para entrenamiento y el 33% restante para evaluación."
      ],
      "id": "9boZnNZwl3jc"
    },
    {
      "cell_type": "code",
      "execution_count": null,
      "metadata": {
        "id": "ZCiW17WLl3jc"
      },
      "outputs": [],
      "source": [
        "XTrain, XTest, yTrain, yTest = train_test_split(XTotal, yTotal, test_size=0.33, random_state=0)"
      ],
      "id": "ZCiW17WLl3jc"
    },
    {
      "cell_type": "markdown",
      "metadata": {
        "id": "0q9x3OVPl3jc"
      },
      "source": [
        "Ahora, procederemos a discutir las tres modelos de penalización discutidos anteriormente y los códigos para implementarlos.\n",
        "\n",
        "### Modelo con penalización tipo Ridge\n",
        "\n",
        "Este modelo utiliza la norma del vector de betas como la suma del cuadrado de sus componentes, es decir, la norma euclidiana clásica de un vector. De esta manera, el problema de optimización que se busca solucionar es:\n",
        "\n",
        "$$\\hat\\beta = argmin \\sum_{i=1}^{n} (Y_i-\\beta^tX_i)^2 + \\lambda \\sum_{j=1}^{k} \\beta_j^{2}$$\n",
        "\n",
        "A continuación se muestra el código para calibrar el modelo con penalización Ridge usando cross-validation:"
      ],
      "id": "0q9x3OVPl3jc"
    },
    {
      "cell_type": "code",
      "execution_count": null,
      "metadata": {
        "id": "5wD_LIhPl3jc"
      },
      "outputs": [],
      "source": [
        "n_alphas = 200\n",
        "alphasCalibrar = np.logspace(-10, 2, n_alphas)\n",
        "modeloRidge = RidgeCV(alphas=alphasCalibrar,store_cv_values=True).fit(XTrain, yTrain)"
      ],
      "id": "5wD_LIhPl3jc"
    },
    {
      "cell_type": "markdown",
      "metadata": {
        "id": "8QLj8C4zl3jd"
      },
      "source": [
        "Una vez calibrado el modelo, podemos saber el valor de $\\lambda$, del $R^{2}$ de la regresión y de los coeficientes estimados utilizando los siguientes comandos:"
      ],
      "id": "8QLj8C4zl3jd"
    },
    {
      "cell_type": "code",
      "execution_count": null,
      "metadata": {
        "scrolled": false,
        "colab": {
          "base_uri": "https://localhost:8080/"
        },
        "id": "9cvyC17Ll3jd",
        "outputId": "338fb4e0-9a07-408f-c148-659f7954eac8"
      },
      "outputs": [
        {
          "output_type": "stream",
          "name": "stdout",
          "text": [
            "El parámetro de penalización óptimo es:\n",
            "0.04824108704165374\n",
            "El valor del R^2 es:\n",
            "0.5555050169726368\n",
            "Los coeficientes estimados son:\n",
            "[ -30.74688277 -173.94282028  562.75782213  272.05180796  -99.66001003\n",
            "  -78.00254663 -208.36004921   51.25040253  532.18392394   51.71663159]\n"
          ]
        }
      ],
      "source": [
        "print('El parámetro de penalización óptimo es:')\n",
        "print(modeloRidge.alpha_)\n",
        "print('El valor del R^2 es:')\n",
        "print(modeloRidge.score(XTrain, yTrain))\n",
        "print('Los coeficientes estimados son:')\n",
        "print(modeloRidge.coef_)"
      ],
      "id": "9cvyC17Ll3jd"
    },
    {
      "cell_type": "markdown",
      "metadata": {
        "id": "fY5unYwTl3jd"
      },
      "source": [
        "Para observar lo que sucede con los coeficientes a medida que cambia el valor del parámetro de penalización, se debe correr el siguiente código:"
      ],
      "id": "fY5unYwTl3jd"
    },
    {
      "cell_type": "code",
      "execution_count": null,
      "metadata": {
        "scrolled": true,
        "colab": {
          "base_uri": "https://localhost:8080/",
          "height": 300
        },
        "id": "PSb7qAtYl3jd",
        "outputId": "92fd2517-565c-4ecf-a60f-4c8101a7533e"
      },
      "outputs": [
        {
          "output_type": "display_data",
          "data": {
            "text/plain": [
              "<Figure size 432x288 with 1 Axes>"
            ],
            "image/png": "[encoded data removed]"
          },
          "metadata": {
            "needs_background": "light"
          }
        }
      ],
      "source": [
        "coefs = []\n",
        "for a in alphasCalibrar:\n",
        "    ridge = Ridge(alpha=a, fit_intercept=False)\n",
        "    ridge.fit(XTrain, yTrain)\n",
        "    coefs.append(ridge.coef_)\n",
        "\n",
        "# Presentación de resultados\n",
        "\n",
        "ax = plt.gca()\n",
        "\n",
        "ax.plot(alphasCalibrar, coefs)\n",
        "ax.set_xscale('log')\n",
        "ax.set_xlim(ax.get_xlim()[::-1])  \n",
        "plt.xlabel('Parámetro de penalización')\n",
        "plt.ylabel('Coeficientes')\n",
        "plt.title('Penalización Ridge')\n",
        "plt.axis('tight')\n",
        "plt.show()"
      ],
      "id": "PSb7qAtYl3jd"
    },
    {
      "cell_type": "markdown",
      "metadata": {
        "id": "Za2_ZDRYl3jd"
      },
      "source": [
        "Finalmente, podemos hacer predicciones sobre la muestra de evaluación y calcular el MSE correspondiente con el comando que se muestra enseguida:"
      ],
      "id": "Za2_ZDRYl3jd"
    },
    {
      "cell_type": "code",
      "execution_count": null,
      "metadata": {
        "colab": {
          "base_uri": "https://localhost:8080/"
        },
        "id": "OWvS4Sgel3je",
        "outputId": "19a8705d-d11b-4c05-baba-d617b8996840"
      },
      "outputs": [
        {
          "output_type": "stream",
          "name": "stdout",
          "text": [
            "MSE regresión con penalización tipo Ridge:\n",
            "3116.3470058003086\n"
          ]
        }
      ],
      "source": [
        "prediccionRidge=modeloRidge.predict(XTest)\n",
        "MSERidge=np.average(np.square(prediccionRidge-yTest))\n",
        "print('MSE regresión con penalización tipo Ridge:')\n",
        "print(MSERidge)"
      ],
      "id": "OWvS4Sgel3je"
    },
    {
      "cell_type": "markdown",
      "metadata": {
        "id": "WNCKtsWDl3je"
      },
      "source": [
        "### Modelo con penalización tipo LASSO\n",
        "\n",
        "Este modelo utiliza la norma del vector de betas como la suma del valor absoluto de sus componentes, es decir, el problema de optimización que se busca solucionar es:\n",
        "\n",
        "$$\\hat\\beta = argmin \\sum_{i=1}^{n} (Y_i-\\beta^tX_i)^2 + \\lambda \\sum_{j=1}^{k} |\\beta_j|$$\n",
        "\n",
        "A continuación se muestra el código para calibrar el modelo con penalización LASSO usando cross-validation:"
      ],
      "id": "WNCKtsWDl3je"
    },
    {
      "cell_type": "code",
      "execution_count": null,
      "metadata": {
        "id": "OA4DFxPYl3je"
      },
      "outputs": [],
      "source": [
        "n_alphas = 200\n",
        "alphasCalibrar = np.logspace(-10, 2, n_alphas)\n",
        "modeloLASSO = LassoCV(alphas=alphasCalibrar).fit(XTrain, yTrain)"
      ],
      "id": "OA4DFxPYl3je"
    },
    {
      "cell_type": "markdown",
      "metadata": {
        "id": "n_NJvLBIl3je"
      },
      "source": [
        "Una vez calibrado el modelo, podemos saber el valor de $\\lambda$, del $R^{2}$ de la regresión y de los coeficientes estimados utilizando los siguientes comandos:"
      ],
      "id": "n_NJvLBIl3je"
    },
    {
      "cell_type": "code",
      "execution_count": null,
      "metadata": {
        "scrolled": true,
        "colab": {
          "base_uri": "https://localhost:8080/"
        },
        "id": "DL6OJ9Edl3je",
        "outputId": "7e5b1a13-b70b-47d4-95e7-1823729db1ab"
      },
      "outputs": [
        {
          "output_type": "stream",
          "name": "stdout",
          "text": [
            "El parámetro de penalización es:\n",
            "0.04824108704165374\n",
            "El valor del R^2 es:\n",
            "0.5560271023727925\n",
            "Los coeficientes estimados son:\n",
            "[  -7.84287066 -151.6588139   590.8063923   251.03733442 -158.75797546\n",
            "   -0.         -193.40634314    0.          596.76793272   14.73853109]\n"
          ]
        }
      ],
      "source": [
        "print('El parámetro de penalización es:')\n",
        "print(modeloLASSO.alpha_)\n",
        "print('El valor del R^2 es:')\n",
        "print(modeloLASSO.score(XTrain, yTrain))\n",
        "print('Los coeficientes estimados son:')\n",
        "print(modeloLASSO.coef_)"
      ],
      "id": "DL6OJ9Edl3je"
    },
    {
      "cell_type": "markdown",
      "metadata": {
        "id": "a4XnmWwVl3je"
      },
      "source": [
        "Para observar lo que sucede con los coeficientes a medida que cambia el valor del parámetro de penalización, se debe correr el siguiente código:"
      ],
      "id": "a4XnmWwVl3je"
    },
    {
      "cell_type": "code",
      "execution_count": null,
      "metadata": {
        "colab": {
          "base_uri": "https://localhost:8080/",
          "height": 300
        },
        "id": "Dzas9Zicl3je",
        "outputId": "1a900683-0988-433e-cdc5-044872b6e92e"
      },
      "outputs": [
        {
          "output_type": "display_data",
          "data": {
            "text/plain": [
              "<Figure size 432x288 with 1 Axes>"
            ],
            "image/png": "[encoded data removed]"
          },
          "metadata": {
            "needs_background": "light"
          }
        }
      ],
      "source": [
        "coefs = []\n",
        "for a in alphasCalibrar:\n",
        "    lasso = Lasso(alpha=a, fit_intercept=False,max_iter=10000)\n",
        "    lasso.fit(XTrain, yTrain)\n",
        "    coefs.append(lasso.coef_)\n",
        "\n",
        "# Presentación de resultados\n",
        "\n",
        "ax = plt.gca()\n",
        "\n",
        "ax.plot(alphasCalibrar, coefs)\n",
        "ax.set_xscale('log')\n",
        "ax.set_xlim(ax.get_xlim()[::-1])  # reverse axis\n",
        "plt.xlabel('Parámetro de penalización')\n",
        "plt.ylabel('Coeficientes')\n",
        "plt.title('Penalización LASSO')\n",
        "plt.axis('tight')\n",
        "plt.show()"
      ],
      "id": "Dzas9Zicl3je"
    },
    {
      "cell_type": "markdown",
      "metadata": {
        "id": "tn050Ktwl3jf"
      },
      "source": [
        "Finalmente, podemos hacer predicciones sobre la muestra de evaluación y calcular el MSE correspondiente con el comando que se muestra enseguida:"
      ],
      "id": "tn050Ktwl3jf"
    },
    {
      "cell_type": "code",
      "execution_count": null,
      "metadata": {
        "colab": {
          "base_uri": "https://localhost:8080/"
        },
        "id": "wtFraLpfl3jf",
        "outputId": "dfb69c88-6cc7-41dc-e7c9-75170367f656"
      },
      "outputs": [
        {
          "output_type": "stream",
          "name": "stdout",
          "text": [
            "MSE regresión con penalización tipo LASSO:\n",
            "3158.1726904665447\n"
          ]
        }
      ],
      "source": [
        "prediccionLASSO=modeloLASSO.predict(XTest)\n",
        "MSELASSO=np.average(np.square(prediccionLASSO-yTest))\n",
        "print('MSE regresión con penalización tipo LASSO:')\n",
        "print(MSELASSO)"
      ],
      "id": "wtFraLpfl3jf"
    },
    {
      "cell_type": "markdown",
      "metadata": {
        "id": "EDzykF94l3jf"
      },
      "source": [
        "### Modelo con penalización tipo Elastic Net\n",
        "\n",
        "Este modelo combina la norma euclidiana clásica del vector de betas junto con la norma del vector de betas como la suma del valor absoluto de sus componentes, es decir, es una combinación entre la penalización tipo Ridge y la penalización tipo LASSO.\n",
        "De esta manera, el problema de optimización que se busca solucionar es:\n",
        "\n",
        "$$\\hat\\beta = argmin \\sum_{i=1}^{n} (Y_{i}-\\beta^tX_i)^2 + \\lambda((1-\\alpha) \\sum_{j=1}^{k} \\beta_j^{2}+ \\alpha \\sum_{j=1}^{k} |\\beta_j|)$$\n",
        "\n",
        "Como se puede observar, para este tipo de penalización hay dos parámetros de calibración $\\lambda$ y $\\alpha$. Además, es importante notar que si tenemos $\\alpha=0$ estaríamos hablando de un modelo con penalización tipo Ridge, y si tenemos $\\alpha=1$ estaríamos hablando de un modelo con penalización tipo LASSO.\n",
        "\n",
        "A continuación se muestra el código para calibrar el modelo con penalización Elastic Net usando cross-validation:"
      ],
      "id": "EDzykF94l3jf"
    },
    {
      "cell_type": "code",
      "execution_count": null,
      "metadata": {
        "id": "er8Aw2rwl3jf"
      },
      "outputs": [],
      "source": [
        "n_alphas = 200\n",
        "alphasCalibrar = np.logspace(-10, 2, n_alphas)\n",
        "modeloElastic = ElasticNetCV(alphas=alphasCalibrar,cv=5, random_state=0).fit(XTrain,yTrain)"
      ],
      "id": "er8Aw2rwl3jf"
    },
    {
      "cell_type": "markdown",
      "metadata": {
        "id": "HooVNFphl3jf"
      },
      "source": [
        "Una vez calibrado el modelo, podemos saber el valor de $\\lambda$, del $R^{2}$ de la regresión y de los coeficientes estimados utilizando los siguientes comandos:"
      ],
      "id": "HooVNFphl3jf"
    },
    {
      "cell_type": "code",
      "execution_count": null,
      "metadata": {
        "scrolled": true,
        "colab": {
          "base_uri": "https://localhost:8080/"
        },
        "id": "G9f2nrE4l3jf",
        "outputId": "62e49cd8-091c-4055-f201-67242c8913e0"
      },
      "outputs": [
        {
          "output_type": "stream",
          "name": "stdout",
          "text": [
            "El parámetro de penalización es:\n",
            "0.0004937047852839004\n",
            "El valor del R^2 es:\n",
            "0.5538625583085408\n",
            "Los coeficientes estimados son:\n",
            "[ -26.9569002  -167.54484824  546.83904689  268.2522041   -74.76095447\n",
            "  -92.30768544 -209.00556072   62.2106805   504.47407276   58.48911283]\n"
          ]
        }
      ],
      "source": [
        "print('El parámetro de penalización es:')\n",
        "print(modeloElastic.alpha_)\n",
        "print('El valor del R^2 es:')\n",
        "print(modeloElastic.score(XTrain, yTrain))\n",
        "print('Los coeficientes estimados son:')\n",
        "print(modeloElastic.coef_)"
      ],
      "id": "G9f2nrE4l3jf"
    },
    {
      "cell_type": "markdown",
      "metadata": {
        "id": "EdhAd4b8l3jf"
      },
      "source": [
        "Para observar lo que sucede con los coeficientes a medida que cambia el valor del parámetro de penalización, se debe correr el siguiente código:"
      ],
      "id": "EdhAd4b8l3jf"
    },
    {
      "cell_type": "code",
      "execution_count": null,
      "metadata": {
        "scrolled": true,
        "colab": {
          "base_uri": "https://localhost:8080/",
          "height": 300
        },
        "id": "XLXeytIIl3jf",
        "outputId": "24cbb3f5-9c00-4531-914f-fc39552a2f45"
      },
      "outputs": [
        {
          "output_type": "display_data",
          "data": {
            "text/plain": [
              "<Figure size 432x288 with 1 Axes>"
            ],
            "image/png": "[encoded data removed]"
          },
          "metadata": {
            "needs_background": "light"
          }
        }
      ],
      "source": [
        "coefs = []\n",
        "for a in alphasCalibrar:\n",
        "    elasticNet = ElasticNet(alpha=a, fit_intercept=False,max_iter=10000)\n",
        "    elasticNet.fit(XTrain, yTrain)\n",
        "    coefs.append(elasticNet.coef_)\n",
        "\n",
        "# Presentación de resultados\n",
        "\n",
        "ax = plt.gca()\n",
        "\n",
        "ax.plot(alphasCalibrar, coefs)\n",
        "ax.set_xscale('log')\n",
        "ax.set_xlim(ax.get_xlim()[::-1])  # reverse axis\n",
        "plt.xlabel('Parámetro de penalización')\n",
        "plt.ylabel('Coeficientes')\n",
        "plt.title('Penalización Elastic Net')\n",
        "plt.axis('tight')\n",
        "plt.show()"
      ],
      "id": "XLXeytIIl3jf"
    },
    {
      "cell_type": "markdown",
      "metadata": {
        "id": "XjrnacPel3jg"
      },
      "source": [
        "Finalmente, podemos hacer predicciones sobre la muestra de evaluación y calcular el MSE correspondiente con el comando que se muestra enseguida:"
      ],
      "id": "XjrnacPel3jg"
    },
    {
      "cell_type": "code",
      "execution_count": null,
      "metadata": {
        "colab": {
          "base_uri": "https://localhost:8080/"
        },
        "id": "-njDw7C9l3jg",
        "outputId": "78a4f94f-90d7-4db9-f72d-ef5e242d7b3d"
      },
      "outputs": [
        {
          "output_type": "stream",
          "name": "stdout",
          "text": [
            "MSE regresión con penalización tipo Elastic Net:\n",
            "3098.824962392979\n"
          ]
        }
      ],
      "source": [
        "prediccionElastic=modeloElastic.predict(XTest)\n",
        "MSEElastic=np.average(np.square(prediccionElastic-yTest))\n",
        "print('MSE regresión con penalización tipo Elastic Net:')\n",
        "print(MSEElastic)"
      ],
      "id": "-njDw7C9l3jg"
    },
    {
      "cell_type": "markdown",
      "metadata": {
        "id": "EjpMzJPYl3jg"
      },
      "source": [
        "### Comparación de modelos\n",
        "\n",
        "Finalmente, se presenta un código que grafica conjuntamente los MSE en test de los tres modelos."
      ],
      "id": "EjpMzJPYl3jg"
    },
    {
      "cell_type": "code",
      "execution_count": null,
      "metadata": {
        "scrolled": false,
        "colab": {
          "base_uri": "https://localhost:8080/",
          "height": 352
        },
        "id": "8W-ZOXYol3jg",
        "outputId": "4782c59b-4c18-47ab-a806-ab6cecdaf6df"
      },
      "outputs": [
        {
          "output_type": "display_data",
          "data": {
            "text/plain": [
              "<Figure size 432x288 with 1 Axes>"
            ],
            "image/png": "[encoded data removed]"
          },
          "metadata": {
            "needs_background": "light"
          }
        }
      ],
      "source": [
        "fig = plt.figure()\n",
        "ax = fig.add_axes([0,0,1,1])\n",
        "ax.set_title(\"Comparación de modelos\")\n",
        "ejeX = ['LASSO', 'Ridge','Elastic Net']\n",
        "ejeY = [MSELASSO,MSERidge,MSEElastic]\n",
        "ax.bar(ejeX,ejeY)\n",
        "def addlabels(x,y,plotP):\n",
        "    for i in range(len(x)):\n",
        "        plotP.text(i,y[i],y[i])\n",
        "addlabels(ejeX,ejeY,plt)\n",
        "plt.show()"
      ],
      "id": "8W-ZOXYol3jg"
    },
    {
      "cell_type": "markdown",
      "metadata": {
        "id": "9EwtRPhZl3jg"
      },
      "source": [
        "Como se puede observar, para este caso particular, el desempeño del modelo Elastic Net fue mejor que el de Ridge y LASSO."
      ],
      "id": "9EwtRPhZl3jg"
    },
    {
      "cell_type": "markdown",
      "metadata": {
        "id": "8HTTzzVel3jg"
      },
      "source": [
        "### Implementación de código\n",
        "\n",
        "A continuación deberá escribir una función que reciba como parámetros la matriz de predictores de entrenamiento, la variable de respuesta de entrenamiento, la matriz de predictores de evaluación, la variable de respuesta de evaluación y un parámetro llamado \"penalización\" que sea 1 si se quiere estimar un modelo con penalización tipo LASSO, 2 si se quiere estimar un modelo con penalización tipo Ridge y 3 si se quiere estimar un modelo con penalización tipo Elastic Net. Luego, se deberá estimar el modelo solicitado con los datos de entrenamiento y calcular las predicciones para el conjunto de evaluación. Finalmente, se debera retornar el MSE del modelo en test."
      ],
      "id": "8HTTzzVel3jg"
    },
    {
      "cell_type": "code",
      "execution_count": null,
      "metadata": {
        "id": "ZF6wS5i6l3jg"
      },
      "outputs": [],
      "source": [
        "def funcion(XTrain,yTrain,XTest,yTest,penalizacion):\n",
        "    \n",
        "    # inicializacion, se determina mismo array de alfas para todos los modelos\n",
        "    MSE = np.nan\n",
        "    n_alphas = 200\n",
        "    alphasCalibrar = np.logspace(-10, 2, n_alphas)\n",
        "    \n",
        "    # Lasso\n",
        "    if penalizacion == 1:\n",
        "        \n",
        "        #train\n",
        "        modeloLASSO = LassoCV(alphas=alphasCalibrar).fit(XTrain, yTrain)\n",
        "        \n",
        "        #predict\n",
        "        prediccionLASSO = modeloLASSO.predict(XTest)\n",
        "        MSE = np.average(np.square(prediccionLASSO-yTest))\n",
        "    \n",
        "    # Ridge\n",
        "    elif penalizacion == 2:\n",
        "        \n",
        "        #train\n",
        "        modeloRidge = RidgeCV(alphas=alphasCalibrar,store_cv_values=True).fit(XTrain, yTrain)\n",
        "        \n",
        "        #predict\n",
        "        prediccionRidge = modeloRidge.predict(XTest)\n",
        "        MSE = np.average(np.square(prediccionRidge-yTest))\n",
        "    \n",
        "    \n",
        "    #Elastic\n",
        "    elif penalizacion == 3:\n",
        "    \n",
        "        #train , aqui el valor que determina la \"proporcion\" de lasso y de ridge esta con default 0.5\n",
        "        modeloElastic = ElasticNetCV(alphas=alphasCalibrar,cv=5, random_state=0).fit(XTrain,yTrain)\n",
        "        \n",
        "        #predict\n",
        "        prediccionElastic = modeloElastic.predict(XTest)\n",
        "        MSE = np.average(np.square(prediccionElastic-yTest))\n",
        "    else:\n",
        "        raise Exception(\"El valor de penalizacion no esta en el rango valido [1-3], modifique el valor y vuelva a intentarlo\")\n",
        "        \n",
        "    return MSE"
      ],
      "id": "ZF6wS5i6l3jg"
    },
    {
      "cell_type": "code",
      "source": [
        "for i in np.arange(1,5):\n",
        "  a = funcion(XTrain,yTrain,XTest,yTest,i)\n",
        "  print(a)"
      ],
      "metadata": {
        "colab": {
          "base_uri": "https://localhost:8080/",
          "height": 373
        },
        "id": "g6Jlr9eFl6mE",
        "outputId": "7a1fb3b6-98a7-43d1-9883-50b7188ca409"
      },
      "id": "g6Jlr9eFl6mE",
      "execution_count": null,
      "outputs": [
        {
          "output_type": "stream",
          "name": "stdout",
          "text": [
            "3158.1726904665447\n",
            "3116.3470058003086\n",
            "3098.824962392979\n"
          ]
        },
        {
          "output_type": "error",
          "ename": "Exception",
          "evalue": "ignored",
          "traceback": [
            "\u001b[0;31m---------------------------------------------------------------------------\u001b[0m",
            "\u001b[0;31mException\u001b[0m                                 Traceback (most recent call last)",
            "\u001b[0;32m<ipython-input-19-5085d9128703>\u001b[0m in \u001b[0;36m<module>\u001b[0;34m\u001b[0m\n\u001b[1;32m      1\u001b[0m \u001b[0;32mfor\u001b[0m \u001b[0mi\u001b[0m \u001b[0;32min\u001b[0m \u001b[0mnp\u001b[0m\u001b[0;34m.\u001b[0m\u001b[0marange\u001b[0m\u001b[0;34m(\u001b[0m\u001b[0;36m1\u001b[0m\u001b[0;34m,\u001b[0m\u001b[0;36m5\u001b[0m\u001b[0;34m)\u001b[0m\u001b[0;34m:\u001b[0m\u001b[0;34m\u001b[0m\u001b[0;34m\u001b[0m\u001b[0m\n\u001b[0;32m----> 2\u001b[0;31m   \u001b[0ma\u001b[0m \u001b[0;34m=\u001b[0m \u001b[0mfuncion\u001b[0m\u001b[0;34m(\u001b[0m\u001b[0mXTrain\u001b[0m\u001b[0;34m,\u001b[0m\u001b[0myTrain\u001b[0m\u001b[0;34m,\u001b[0m\u001b[0mXTest\u001b[0m\u001b[0;34m,\u001b[0m\u001b[0myTest\u001b[0m\u001b[0;34m,\u001b[0m\u001b[0mi\u001b[0m\u001b[0;34m)\u001b[0m\u001b[0;34m\u001b[0m\u001b[0;34m\u001b[0m\u001b[0m\n\u001b[0m\u001b[1;32m      3\u001b[0m   \u001b[0mprint\u001b[0m\u001b[0;34m(\u001b[0m\u001b[0ma\u001b[0m\u001b[0;34m)\u001b[0m\u001b[0;34m\u001b[0m\u001b[0;34m\u001b[0m\u001b[0m\n",
            "\u001b[0;32m<ipython-input-17-399f2f308586>\u001b[0m in \u001b[0;36mfuncion\u001b[0;34m(XTrain, yTrain, XTest, yTest, penalizacion)\u001b[0m\n\u001b[1;32m     37\u001b[0m         \u001b[0mMSE\u001b[0m \u001b[0;34m=\u001b[0m \u001b[0mnp\u001b[0m\u001b[0;34m.\u001b[0m\u001b[0maverage\u001b[0m\u001b[0;34m(\u001b[0m\u001b[0mnp\u001b[0m\u001b[0;34m.\u001b[0m\u001b[0msquare\u001b[0m\u001b[0;34m(\u001b[0m\u001b[0mprediccionElastic\u001b[0m\u001b[0;34m-\u001b[0m\u001b[0myTest\u001b[0m\u001b[0;34m)\u001b[0m\u001b[0;34m)\u001b[0m\u001b[0;34m\u001b[0m\u001b[0;34m\u001b[0m\u001b[0m\n\u001b[1;32m     38\u001b[0m     \u001b[0;32melse\u001b[0m\u001b[0;34m:\u001b[0m\u001b[0;34m\u001b[0m\u001b[0;34m\u001b[0m\u001b[0m\n\u001b[0;32m---> 39\u001b[0;31m         \u001b[0;32mraise\u001b[0m \u001b[0mException\u001b[0m\u001b[0;34m(\u001b[0m\u001b[0;34m\"El valor de penalizacion no esta en el rango valido [1-3], modifique el valor y vuelva a intentarlo\"\u001b[0m\u001b[0;34m)\u001b[0m\u001b[0;34m\u001b[0m\u001b[0;34m\u001b[0m\u001b[0m\n\u001b[0m\u001b[1;32m     40\u001b[0m \u001b[0;34m\u001b[0m\u001b[0m\n\u001b[1;32m     41\u001b[0m     \u001b[0;32mreturn\u001b[0m \u001b[0mMSE\u001b[0m\u001b[0;34m\u001b[0m\u001b[0;34m\u001b[0m\u001b[0m\n",
            "\u001b[0;31mException\u001b[0m: El valor de penalizacion no esta en el rango valido [1-3], modifique el valor y vuelva a intentarlo"
          ]
        }
      ]
    }
  ],
  "metadata": {
    "kernelspec": {
      "display_name": "Python 3",
      "language": "python",
      "name": "python3"
    },
    "language_info": {
      "codemirror_mode": {
        "name": "ipython",
        "version": 3
      },
      "file_extension": ".py",
      "mimetype": "text/x-python",
      "name": "python",
      "nbconvert_exporter": "python",
      "pygments_lexer": "ipython3",
      "version": "3.7.12"
    },
    "colab": {
      "provenance": [],
      "include_colab_link": true
    }
  },
  "nbformat": 4,
  "nbformat_minor": 5
}